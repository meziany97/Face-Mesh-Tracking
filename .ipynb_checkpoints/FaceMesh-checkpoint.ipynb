{
 "cells": [
  {
   "cell_type": "code",
   "execution_count": 1,
   "id": "d4375750",
   "metadata": {},
   "outputs": [],
   "source": [
    "import cv2 \n",
    "import mediapipe as mp \n",
    "import time"
   ]
  },
  {
   "cell_type": "code",
   "execution_count": 2,
   "id": "a3568458",
   "metadata": {},
   "outputs": [],
   "source": [
    "cap = cv2.VideoCapture(\"videos/1.mp4\")\n",
    "\n",
    "cTime=0 \n",
    "pTime=0\n",
    "\n",
    "mpFaceMesh = mp.solutions.face_mesh\n",
    "FaceMesh = mpFaceMesh.FaceMesh(max_num_faces=10)\n",
    "mpDraw = mp.solutions.drawing_utils \n",
    "drawSpec = mpDraw.DrawingSpec(thickness=1,circle_radius=2)\n",
    "\n",
    "while True:\n",
    "    success, img = cap.read()    \n",
    "    \n",
    "    img_RGB = cv2.cvtColor(img,cv2.COLOR_BGR2RGB)\n",
    "    results = FaceMesh.process(img_RGB)\n",
    "    \n",
    "    if results.multi_face_landmarks:\n",
    "        for faceLms in results.multi_face_landmarks:\n",
    "            mpDraw.draw_landmarks(img, faceLms, mpFaceMesh.FACEMESH_CONTOURS,drawSpec,drawSpec)\n",
    "\n",
    "\n",
    "    cTime = time.time()\n",
    "    fps = 1/(cTime - pTime)\n",
    "    pTime = cTime \n",
    "    cv2.putText(img,str(int(fps)),(10,70),cv2.FONT_HERSHEY_PLAIN,3,(0,255,255),3)\n",
    "    cv2.imshow(\"image\",img)\n",
    "    if cv2.waitKey(10) & 0xFF == ord(\"q\"):\n",
    "        break\n",
    "cap.release()\n",
    "cv2.destroyAllWindows()"
   ]
  }
 ],
 "metadata": {
  "kernelspec": {
   "display_name": "Python 3 (ipykernel)",
   "language": "python",
   "name": "python3"
  },
  "language_info": {
   "codemirror_mode": {
    "name": "ipython",
    "version": 3
   },
   "file_extension": ".py",
   "mimetype": "text/x-python",
   "name": "python",
   "nbconvert_exporter": "python",
   "pygments_lexer": "ipython3",
   "version": "3.9.7"
  }
 },
 "nbformat": 4,
 "nbformat_minor": 5
}
